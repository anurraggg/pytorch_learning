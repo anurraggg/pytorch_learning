{
  "nbformat": 4,
  "nbformat_minor": 0,
  "metadata": {
    "colab": {
      "provenance": [],
      "authorship_tag": "ABX9TyNxnAp9PpvEBBYHerTsaaVM",
      "include_colab_link": true
    },
    "kernelspec": {
      "name": "python3",
      "display_name": "Python 3"
    },
    "language_info": {
      "name": "python"
    }
  },
  "cells": [
    {
      "cell_type": "markdown",
      "metadata": {
        "id": "view-in-github",
        "colab_type": "text"
      },
      "source": [
        "<a href=\"https://colab.research.google.com/github/anurraggg/pytorch_learning/blob/main/00_pytorch_fundamentals.ipynb\" target=\"_parent\"><img src=\"https://colab.research.google.com/assets/colab-badge.svg\" alt=\"Open In Colab\"/></a>"
      ]
    },
    {
      "cell_type": "code",
      "source": [
        "import torch\n",
        "import pandas as pd\n",
        "import numpy as np\n",
        "import matplotlib.pyplot as plt\n",
        "print(torch.__version__)"
      ],
      "metadata": {
        "colab": {
          "base_uri": "https://localhost:8080/"
        },
        "id": "amJVqytCSpiO",
        "outputId": "7710ed51-5e31-45fc-a22b-1d2f3f70da63"
      },
      "execution_count": 99,
      "outputs": [
        {
          "output_type": "stream",
          "name": "stdout",
          "text": [
            "2.6.0+cu124\n"
          ]
        }
      ]
    },
    {
      "cell_type": "markdown",
      "source": [
        "#Intro to Tensors\n",
        "#Creating Tensors"
      ],
      "metadata": {
        "id": "kFmnlpNGTs9m"
      }
    },
    {
      "cell_type": "code",
      "source": [
        "#scalar\n",
        "scalar = torch.tensor(7)\n",
        "scalar"
      ],
      "metadata": {
        "id": "LrljYLaJTy0w",
        "outputId": "2ded50e5-e19d-4e41-866e-4dad4295163e",
        "colab": {
          "base_uri": "https://localhost:8080/"
        }
      },
      "execution_count": 100,
      "outputs": [
        {
          "output_type": "execute_result",
          "data": {
            "text/plain": [
              "tensor(7)"
            ]
          },
          "metadata": {},
          "execution_count": 100
        }
      ]
    },
    {
      "cell_type": "code",
      "source": [
        "scalar.ndim"
      ],
      "metadata": {
        "id": "Hj1AYxc2UaxE",
        "outputId": "5bff91df-3d5e-483d-b394-8d244cfbbbc3",
        "colab": {
          "base_uri": "https://localhost:8080/"
        }
      },
      "execution_count": 101,
      "outputs": [
        {
          "output_type": "execute_result",
          "data": {
            "text/plain": [
              "0"
            ]
          },
          "metadata": {},
          "execution_count": 101
        }
      ]
    },
    {
      "cell_type": "code",
      "source": [
        "#Getting Tensor back as Python int\n",
        "scalar.item()"
      ],
      "metadata": {
        "id": "i_US5jpLUvw0",
        "outputId": "f69eb4e2-14b2-4116-b4b0-265ce7e4f8dc",
        "colab": {
          "base_uri": "https://localhost:8080/"
        }
      },
      "execution_count": 102,
      "outputs": [
        {
          "output_type": "execute_result",
          "data": {
            "text/plain": [
              "7"
            ]
          },
          "metadata": {},
          "execution_count": 102
        }
      ]
    },
    {
      "cell_type": "code",
      "source": [
        "#Vector\n",
        "vector=torch.tensor([7,7])\n",
        "vector"
      ],
      "metadata": {
        "id": "2Ryid8oEU4U5",
        "outputId": "30daaf61-4751-4db0-a0ed-4722132ab73b",
        "colab": {
          "base_uri": "https://localhost:8080/"
        }
      },
      "execution_count": 103,
      "outputs": [
        {
          "output_type": "execute_result",
          "data": {
            "text/plain": [
              "tensor([7, 7])"
            ]
          },
          "metadata": {},
          "execution_count": 103
        }
      ]
    },
    {
      "cell_type": "code",
      "source": [
        "vector.ndim"
      ],
      "metadata": {
        "id": "vlX3oYWvVZVg",
        "outputId": "d66b7e77-72df-4879-bee7-1f962a063ed0",
        "colab": {
          "base_uri": "https://localhost:8080/"
        }
      },
      "execution_count": 104,
      "outputs": [
        {
          "output_type": "execute_result",
          "data": {
            "text/plain": [
              "1"
            ]
          },
          "metadata": {},
          "execution_count": 104
        }
      ]
    },
    {
      "cell_type": "code",
      "source": [
        "vector.shape"
      ],
      "metadata": {
        "id": "DHFMMoAsVd-J",
        "outputId": "3b0f8c75-df46-478c-8f3b-a7aaac7991b0",
        "colab": {
          "base_uri": "https://localhost:8080/"
        }
      },
      "execution_count": 105,
      "outputs": [
        {
          "output_type": "execute_result",
          "data": {
            "text/plain": [
              "torch.Size([2])"
            ]
          },
          "metadata": {},
          "execution_count": 105
        }
      ]
    },
    {
      "cell_type": "code",
      "source": [
        "#MATRIX\n",
        "MATRIX=torch.tensor([[7,8],\n",
        "                     [9,10]])\n",
        "MATRIX"
      ],
      "metadata": {
        "id": "zHHB4BYkV6Xw",
        "outputId": "ade60e50-2179-4a22-b400-05c693ba9598",
        "colab": {
          "base_uri": "https://localhost:8080/"
        }
      },
      "execution_count": 106,
      "outputs": [
        {
          "output_type": "execute_result",
          "data": {
            "text/plain": [
              "tensor([[ 7,  8],\n",
              "        [ 9, 10]])"
            ]
          },
          "metadata": {},
          "execution_count": 106
        }
      ]
    },
    {
      "cell_type": "code",
      "source": [
        "MATRIX.ndim"
      ],
      "metadata": {
        "id": "RgDq0l6XWoD3",
        "outputId": "263182f4-afdd-453a-9ff7-b6cca60299e0",
        "colab": {
          "base_uri": "https://localhost:8080/"
        }
      },
      "execution_count": 107,
      "outputs": [
        {
          "output_type": "execute_result",
          "data": {
            "text/plain": [
              "2"
            ]
          },
          "metadata": {},
          "execution_count": 107
        }
      ]
    },
    {
      "cell_type": "code",
      "source": [
        "MATRIX[0]"
      ],
      "metadata": {
        "id": "2Lm5AZ-QW0wB",
        "outputId": "40752f41-2b3f-4ab6-9624-8b589230935c",
        "colab": {
          "base_uri": "https://localhost:8080/"
        }
      },
      "execution_count": 108,
      "outputs": [
        {
          "output_type": "execute_result",
          "data": {
            "text/plain": [
              "tensor([7, 8])"
            ]
          },
          "metadata": {},
          "execution_count": 108
        }
      ]
    },
    {
      "cell_type": "code",
      "source": [
        "MATRIX.shape"
      ],
      "metadata": {
        "id": "-mbYVgNdXGab",
        "outputId": "a3cab0ba-8629-40b4-d2f2-13f6dc09ad19",
        "colab": {
          "base_uri": "https://localhost:8080/"
        }
      },
      "execution_count": 109,
      "outputs": [
        {
          "output_type": "execute_result",
          "data": {
            "text/plain": [
              "torch.Size([2, 2])"
            ]
          },
          "metadata": {},
          "execution_count": 109
        }
      ]
    },
    {
      "cell_type": "code",
      "source": [
        "#TENSOR\n",
        "TENSOR=torch.tensor([[[2,3,1],[5,6,7],[66,67,68]]])\n",
        "TENSOR"
      ],
      "metadata": {
        "id": "dZbcOVrVX2Oe",
        "outputId": "e1353ad8-c078-4939-e575-180ed324e0d0",
        "colab": {
          "base_uri": "https://localhost:8080/"
        }
      },
      "execution_count": 110,
      "outputs": [
        {
          "output_type": "execute_result",
          "data": {
            "text/plain": [
              "tensor([[[ 2,  3,  1],\n",
              "         [ 5,  6,  7],\n",
              "         [66, 67, 68]]])"
            ]
          },
          "metadata": {},
          "execution_count": 110
        }
      ]
    },
    {
      "cell_type": "code",
      "source": [
        "TENSOR.ndim"
      ],
      "metadata": {
        "id": "r29ioX_tYDbk",
        "outputId": "0d3febbd-8b33-41ad-837b-40b6ab363a7f",
        "colab": {
          "base_uri": "https://localhost:8080/"
        }
      },
      "execution_count": 111,
      "outputs": [
        {
          "output_type": "execute_result",
          "data": {
            "text/plain": [
              "3"
            ]
          },
          "metadata": {},
          "execution_count": 111
        }
      ]
    },
    {
      "cell_type": "code",
      "source": [
        "TENSOR.shape"
      ],
      "metadata": {
        "id": "djs0SolGYHS4",
        "outputId": "2bcc5790-c862-46b1-e258-0ee20a345ec4",
        "colab": {
          "base_uri": "https://localhost:8080/"
        }
      },
      "execution_count": 112,
      "outputs": [
        {
          "output_type": "execute_result",
          "data": {
            "text/plain": [
              "torch.Size([1, 3, 3])"
            ]
          },
          "metadata": {},
          "execution_count": 112
        }
      ]
    },
    {
      "cell_type": "markdown",
      "source": [
        "### Random Tensor"
      ],
      "metadata": {
        "id": "flUlyGGDcdmG"
      }
    },
    {
      "cell_type": "code",
      "source": [
        " #Create random tensor of size (2,3,4)\n",
        " #basically 2 dimensions of 3 by 4 matrix\n",
        "random_tensor = torch.rand(2,3,4)\n",
        "random_tensor"
      ],
      "metadata": {
        "id": "8lkz7v2dckIS",
        "outputId": "7996e27f-5820-4a2e-fdf3-efed7f1e88f2",
        "colab": {
          "base_uri": "https://localhost:8080/"
        }
      },
      "execution_count": 113,
      "outputs": [
        {
          "output_type": "execute_result",
          "data": {
            "text/plain": [
              "tensor([[[0.7068, 0.2244, 0.9810, 0.8439],\n",
              "         [0.5796, 0.9547, 0.4691, 0.5518],\n",
              "         [0.1167, 0.9634, 0.7178, 0.1597]],\n",
              "\n",
              "        [[0.3516, 0.0377, 0.5088, 0.6027],\n",
              "         [0.2907, 0.8678, 0.7694, 0.0077],\n",
              "         [0.7331, 0.1946, 0.0753, 0.9205]]])"
            ]
          },
          "metadata": {},
          "execution_count": 113
        }
      ]
    },
    {
      "cell_type": "code",
      "source": [
        "random_tensor.ndim"
      ],
      "metadata": {
        "id": "JestdLzCd8bc",
        "outputId": "549e70b9-c9ba-437c-f114-726a8f5b7040",
        "colab": {
          "base_uri": "https://localhost:8080/"
        }
      },
      "execution_count": 114,
      "outputs": [
        {
          "output_type": "execute_result",
          "data": {
            "text/plain": [
              "3"
            ]
          },
          "metadata": {},
          "execution_count": 114
        }
      ]
    },
    {
      "cell_type": "code",
      "source": [
        "random_tensor.shape"
      ],
      "metadata": {
        "id": "UaFLUnFJd_l7",
        "outputId": "071a822a-a342-4381-9ab4-c2b8284aa302",
        "colab": {
          "base_uri": "https://localhost:8080/"
        }
      },
      "execution_count": 115,
      "outputs": [
        {
          "output_type": "execute_result",
          "data": {
            "text/plain": [
              "torch.Size([2, 3, 4])"
            ]
          },
          "metadata": {},
          "execution_count": 115
        }
      ]
    },
    {
      "cell_type": "code",
      "source": [
        "#Creating a random tensor with a similar shape to an image tensor\n",
        "random_image_size_tensor=torch.rand(size=(224,224,3)) #height, width, colour\n",
        "random_image_size_tensor.shape, random_image_size_tensor.ndim"
      ],
      "metadata": {
        "id": "kRg-d51ffrJa",
        "outputId": "5b5b20e2-6386-41bc-dd09-d96f9224fdf2",
        "colab": {
          "base_uri": "https://localhost:8080/"
        }
      },
      "execution_count": 116,
      "outputs": [
        {
          "output_type": "execute_result",
          "data": {
            "text/plain": [
              "(torch.Size([224, 224, 3]), 3)"
            ]
          },
          "metadata": {},
          "execution_count": 116
        }
      ]
    },
    {
      "cell_type": "markdown",
      "source": [
        "ZEROs and ONEs"
      ],
      "metadata": {
        "id": "K7McAvnJ2OBE"
      }
    },
    {
      "cell_type": "code",
      "source": [
        "#create a tensor of all zeros\n",
        "zeros=torch.zeros(3,4)\n",
        "zeros"
      ],
      "metadata": {
        "colab": {
          "base_uri": "https://localhost:8080/"
        },
        "id": "E62M5X1d2Ssi",
        "outputId": "27ed6d23-762a-4e55-983b-b25fc5f87ae8"
      },
      "execution_count": 117,
      "outputs": [
        {
          "output_type": "execute_result",
          "data": {
            "text/plain": [
              "tensor([[0., 0., 0., 0.],\n",
              "        [0., 0., 0., 0.],\n",
              "        [0., 0., 0., 0.]])"
            ]
          },
          "metadata": {},
          "execution_count": 117
        }
      ]
    },
    {
      "cell_type": "code",
      "source": [
        "zeros*random_tensor"
      ],
      "metadata": {
        "colab": {
          "base_uri": "https://localhost:8080/"
        },
        "id": "eXW1H-Dc2ukD",
        "outputId": "32146fca-5f7d-407d-cae5-b6e3939b6524"
      },
      "execution_count": 118,
      "outputs": [
        {
          "output_type": "execute_result",
          "data": {
            "text/plain": [
              "tensor([[[0., 0., 0., 0.],\n",
              "         [0., 0., 0., 0.],\n",
              "         [0., 0., 0., 0.]],\n",
              "\n",
              "        [[0., 0., 0., 0.],\n",
              "         [0., 0., 0., 0.],\n",
              "         [0., 0., 0., 0.]]])"
            ]
          },
          "metadata": {},
          "execution_count": 118
        }
      ]
    },
    {
      "cell_type": "code",
      "source": [
        "#Creating tensor of all ones"
      ],
      "metadata": {
        "id": "a_0J1AzZ2-p1"
      },
      "execution_count": 119,
      "outputs": []
    },
    {
      "cell_type": "code",
      "source": [
        "ones=torch.ones(3,4)\n",
        "ones"
      ],
      "metadata": {
        "colab": {
          "base_uri": "https://localhost:8080/"
        },
        "id": "PbuhjlPC3Dn8",
        "outputId": "8421f858-4ad6-4968-9161-ee92e577db05"
      },
      "execution_count": 120,
      "outputs": [
        {
          "output_type": "execute_result",
          "data": {
            "text/plain": [
              "tensor([[1., 1., 1., 1.],\n",
              "        [1., 1., 1., 1.],\n",
              "        [1., 1., 1., 1.]])"
            ]
          },
          "metadata": {},
          "execution_count": 120
        }
      ]
    },
    {
      "cell_type": "code",
      "source": [
        "ones*random_tensor"
      ],
      "metadata": {
        "colab": {
          "base_uri": "https://localhost:8080/"
        },
        "id": "K1KeRvKX3KM9",
        "outputId": "8f227715-e096-40bb-c3e2-7a5d07bc70ed"
      },
      "execution_count": 121,
      "outputs": [
        {
          "output_type": "execute_result",
          "data": {
            "text/plain": [
              "tensor([[[0.7068, 0.2244, 0.9810, 0.8439],\n",
              "         [0.5796, 0.9547, 0.4691, 0.5518],\n",
              "         [0.1167, 0.9634, 0.7178, 0.1597]],\n",
              "\n",
              "        [[0.3516, 0.0377, 0.5088, 0.6027],\n",
              "         [0.2907, 0.8678, 0.7694, 0.0077],\n",
              "         [0.7331, 0.1946, 0.0753, 0.9205]]])"
            ]
          },
          "metadata": {},
          "execution_count": 121
        }
      ]
    },
    {
      "cell_type": "code",
      "source": [
        "zeros.dtype"
      ],
      "metadata": {
        "colab": {
          "base_uri": "https://localhost:8080/"
        },
        "id": "Dl5BkMe14yOA",
        "outputId": "983752db-2579-430f-ba12-4c0bdc8d1451"
      },
      "execution_count": 122,
      "outputs": [
        {
          "output_type": "execute_result",
          "data": {
            "text/plain": [
              "torch.float32"
            ]
          },
          "metadata": {},
          "execution_count": 122
        }
      ]
    },
    {
      "cell_type": "code",
      "source": [
        "ones.dtype"
      ],
      "metadata": {
        "colab": {
          "base_uri": "https://localhost:8080/"
        },
        "id": "v6D6rERQ43IL",
        "outputId": "77c79f63-d273-4bc8-a86a-5353f8f504d7"
      },
      "execution_count": 123,
      "outputs": [
        {
          "output_type": "execute_result",
          "data": {
            "text/plain": [
              "torch.float32"
            ]
          },
          "metadata": {},
          "execution_count": 123
        }
      ]
    },
    {
      "cell_type": "markdown",
      "source": [
        "Creating a range of tensors"
      ],
      "metadata": {
        "id": "7mZkuOaa5jT5"
      }
    },
    {
      "cell_type": "code",
      "source": [
        "one_to_ten=torch.arange(start=1, end=11, step=0.5)\n",
        "one_to_ten"
      ],
      "metadata": {
        "colab": {
          "base_uri": "https://localhost:8080/"
        },
        "id": "waOLhNe3-elM",
        "outputId": "eaf3e2eb-e280-4062-dbe2-d475eef8035a"
      },
      "execution_count": 124,
      "outputs": [
        {
          "output_type": "execute_result",
          "data": {
            "text/plain": [
              "tensor([ 1.0000,  1.5000,  2.0000,  2.5000,  3.0000,  3.5000,  4.0000,  4.5000,\n",
              "         5.0000,  5.5000,  6.0000,  6.5000,  7.0000,  7.5000,  8.0000,  8.5000,\n",
              "         9.0000,  9.5000, 10.0000, 10.5000])"
            ]
          },
          "metadata": {},
          "execution_count": 124
        }
      ]
    },
    {
      "cell_type": "code",
      "source": [
        "#creating tensors like\n",
        "ten_zeros=torch.zeros_like(one_to_ten)\n",
        "ten_zeros"
      ],
      "metadata": {
        "colab": {
          "base_uri": "https://localhost:8080/"
        },
        "id": "5NbO_1xb_YQU",
        "outputId": "81e05cec-9b2d-4dfa-d6d9-09673828a127"
      },
      "execution_count": 125,
      "outputs": [
        {
          "output_type": "execute_result",
          "data": {
            "text/plain": [
              "tensor([0., 0., 0., 0., 0., 0., 0., 0., 0., 0., 0., 0., 0., 0., 0., 0., 0., 0., 0., 0.])"
            ]
          },
          "metadata": {},
          "execution_count": 125
        }
      ]
    },
    {
      "cell_type": "code",
      "source": [
        "ten_ones=torch.ones_like(one_to_ten)\n",
        "ten_ones.dtype"
      ],
      "metadata": {
        "colab": {
          "base_uri": "https://localhost:8080/"
        },
        "id": "2_FRfdvvAYhu",
        "outputId": "bd449239-4dbb-4313-b42a-de0486fd8c8f"
      },
      "execution_count": 126,
      "outputs": [
        {
          "output_type": "execute_result",
          "data": {
            "text/plain": [
              "torch.float32"
            ]
          },
          "metadata": {},
          "execution_count": 126
        }
      ]
    },
    {
      "cell_type": "code",
      "source": [
        "ten_zeros*ten_ones"
      ],
      "metadata": {
        "colab": {
          "base_uri": "https://localhost:8080/"
        },
        "id": "-KprYJ8lEn-j",
        "outputId": "a635e6a8-3f2a-42b7-a913-9d09b2360375"
      },
      "execution_count": 127,
      "outputs": [
        {
          "output_type": "execute_result",
          "data": {
            "text/plain": [
              "tensor([0., 0., 0., 0., 0., 0., 0., 0., 0., 0., 0., 0., 0., 0., 0., 0., 0., 0., 0., 0.])"
            ]
          },
          "metadata": {},
          "execution_count": 127
        }
      ]
    },
    {
      "cell_type": "code",
      "source": [
        "#converting frm float32 to float16\n",
        "float_16_tensor=one_to_ten.type(torch.float16)\n",
        "float_16_tensor"
      ],
      "metadata": {
        "colab": {
          "base_uri": "https://localhost:8080/"
        },
        "id": "YhHjzO0pFA7N",
        "outputId": "70535c63-297c-4cf6-fbbd-efc4b002a269"
      },
      "execution_count": 128,
      "outputs": [
        {
          "output_type": "execute_result",
          "data": {
            "text/plain": [
              "tensor([ 1.0000,  1.5000,  2.0000,  2.5000,  3.0000,  3.5000,  4.0000,  4.5000,\n",
              "         5.0000,  5.5000,  6.0000,  6.5000,  7.0000,  7.5000,  8.0000,  8.5000,\n",
              "         9.0000,  9.5000, 10.0000, 10.5000], dtype=torch.float16)"
            ]
          },
          "metadata": {},
          "execution_count": 128
        }
      ]
    },
    {
      "cell_type": "code",
      "source": [
        "float_32_tensor=one_to_ten.type(torch.float32)\n",
        "float_32_tensor"
      ],
      "metadata": {
        "id": "CW6pnLVkFMFQ",
        "colab": {
          "base_uri": "https://localhost:8080/"
        },
        "outputId": "2828357a-0b92-491a-e374-9b6db6d47a22"
      },
      "execution_count": 130,
      "outputs": [
        {
          "output_type": "execute_result",
          "data": {
            "text/plain": [
              "tensor([ 1.0000,  1.5000,  2.0000,  2.5000,  3.0000,  3.5000,  4.0000,  4.5000,\n",
              "         5.0000,  5.5000,  6.0000,  6.5000,  7.0000,  7.5000,  8.0000,  8.5000,\n",
              "         9.0000,  9.5000, 10.0000, 10.5000])"
            ]
          },
          "metadata": {},
          "execution_count": 130
        }
      ]
    },
    {
      "cell_type": "code",
      "source": [
        "#so basically i can sometimes multiply float16 with float32\n",
        "float_16_tensor*float_32_tensor"
      ],
      "metadata": {
        "colab": {
          "base_uri": "https://localhost:8080/"
        },
        "id": "2uXoYeu1I8kG",
        "outputId": "6f299652-4e06-4612-90aa-5d4cc2486811"
      },
      "execution_count": 132,
      "outputs": [
        {
          "output_type": "execute_result",
          "data": {
            "text/plain": [
              "tensor([  1.0000,   2.2500,   4.0000,   6.2500,   9.0000,  12.2500,  16.0000,\n",
              "         20.2500,  25.0000,  30.2500,  36.0000,  42.2500,  49.0000,  56.2500,\n",
              "         64.0000,  72.2500,  81.0000,  90.2500, 100.0000, 110.2500])"
            ]
          },
          "metadata": {},
          "execution_count": 132
        }
      ]
    },
    {
      "cell_type": "markdown",
      "source": [
        "### Getting information from tensor\n",
        "1. Tensors not correct datatype - Use tensor.dtype to know and change dtype\n",
        "2. Tensors not right shape - Use tensor.shape\n",
        "3. Tensor not on right device - use tensor.device to know device eg- cpu or gpu"
      ],
      "metadata": {
        "id": "7CFt-n2cKk98"
      }
    },
    {
      "cell_type": "code",
      "source": [
        "some_tensor=torch.rand(3,4)\n",
        "some_tensor"
      ],
      "metadata": {
        "colab": {
          "base_uri": "https://localhost:8080/"
        },
        "id": "U1Kr65mPK1vj",
        "outputId": "b5c65610-291b-46ca-bfc0-ca4184cfa458"
      },
      "execution_count": 135,
      "outputs": [
        {
          "output_type": "execute_result",
          "data": {
            "text/plain": [
              "tensor([[0.8294, 0.6237, 0.6646, 0.6946],\n",
              "        [0.3965, 0.2450, 0.8508, 0.4478],\n",
              "        [0.3111, 0.4696, 0.3950, 0.9889]])"
            ]
          },
          "metadata": {},
          "execution_count": 135
        }
      ]
    },
    {
      "cell_type": "code",
      "source": [
        "#finding out details of tensor attribute\n",
        "print(some_tensor)\n",
        "print(f\"datatype of tensor is: \", some_tensor.dtype)\n",
        "print(f\"shape of tensor is:\",some_tensor.shape)\n",
        "print(f\"device of tensor is:\", some_tensor.device)"
      ],
      "metadata": {
        "colab": {
          "base_uri": "https://localhost:8080/"
        },
        "id": "JIZ8kLI5K7BT",
        "outputId": "b8be1444-088e-4754-d50e-f9ef58580f3c"
      },
      "execution_count": 144,
      "outputs": [
        {
          "output_type": "stream",
          "name": "stdout",
          "text": [
            "tensor([[0.8294, 0.6237, 0.6646, 0.6946],\n",
            "        [0.3965, 0.2450, 0.8508, 0.4478],\n",
            "        [0.3111, 0.4696, 0.3950, 0.9889]])\n",
            "datatype of tensor is:  torch.float32\n",
            "shape of tensor is: torch.Size([3, 4])\n",
            "device of tensor is: cpu\n"
          ]
        }
      ]
    },
    {
      "cell_type": "markdown",
      "source": [
        "### Tensor Operations which include + , -- , / , * , Matrix Multiplication"
      ],
      "metadata": {
        "id": "UAMvzh6yN7m5"
      }
    },
    {
      "cell_type": "code",
      "source": [
        "#addition\n",
        "tensor=torch.tensor([1,2,3])\n",
        "tensor+10"
      ],
      "metadata": {
        "colab": {
          "base_uri": "https://localhost:8080/"
        },
        "id": "zlIfzM8uN93t",
        "outputId": "2c00a49e-9eea-4ff6-e4d2-998971d4ae83"
      },
      "execution_count": 146,
      "outputs": [
        {
          "output_type": "execute_result",
          "data": {
            "text/plain": [
              "tensor([11, 12, 13])"
            ]
          },
          "metadata": {},
          "execution_count": 146
        }
      ]
    },
    {
      "cell_type": "code",
      "source": [
        "#Multiplication\n",
        "tensor*10"
      ],
      "metadata": {
        "colab": {
          "base_uri": "https://localhost:8080/"
        },
        "id": "zD0gfYKVOOkQ",
        "outputId": "65fab896-41c2-47ef-91c7-bf73eaaf8b87"
      },
      "execution_count": 148,
      "outputs": [
        {
          "output_type": "execute_result",
          "data": {
            "text/plain": [
              "tensor([10, 20, 30])"
            ]
          },
          "metadata": {},
          "execution_count": 148
        }
      ]
    },
    {
      "cell_type": "code",
      "source": [
        "#Subtract\n",
        "tensor-10"
      ],
      "metadata": {
        "colab": {
          "base_uri": "https://localhost:8080/"
        },
        "id": "hDJsxDTzOla-",
        "outputId": "d70d3f3b-af90-4f6b-f12e-face9b7579e1"
      },
      "execution_count": 150,
      "outputs": [
        {
          "output_type": "execute_result",
          "data": {
            "text/plain": [
              "tensor([-9, -8, -7])"
            ]
          },
          "metadata": {},
          "execution_count": 150
        }
      ]
    },
    {
      "cell_type": "code",
      "source": [
        "#Division\n",
        "dec_tensor = tensor/10\n",
        "dec_tensor # output is in float32"
      ],
      "metadata": {
        "colab": {
          "base_uri": "https://localhost:8080/"
        },
        "id": "gt-o18nYPHVf",
        "outputId": "98429631-5414-4b58-d6f8-35e09286331d"
      },
      "execution_count": 157,
      "outputs": [
        {
          "output_type": "execute_result",
          "data": {
            "text/plain": [
              "tensor([0.1000, 0.2000, 0.3000])"
            ]
          },
          "metadata": {},
          "execution_count": 157
        }
      ]
    },
    {
      "cell_type": "code",
      "source": [
        "#Matrix Multiplication\n",
        "#Element wise\n",
        "print(tensor, \"*\", tensor)\n",
        "print(f\"Equals: {tensor*tensor}\")"
      ],
      "metadata": {
        "colab": {
          "base_uri": "https://localhost:8080/"
        },
        "id": "EnmKlBSIS9gZ",
        "outputId": "271dcf9f-a1ef-4874-9028-5d83884c35bb"
      },
      "execution_count": 163,
      "outputs": [
        {
          "output_type": "stream",
          "name": "stdout",
          "text": [
            "tensor([1, 2, 3]) * tensor([1, 2, 3])\n",
            "Equals: tensor([1, 4, 9])\n"
          ]
        }
      ]
    },
    {
      "cell_type": "code",
      "source": [
        "#Matrix multiplication\n",
        "torch.matmul(tensor, tensor) #torch.matmul() is a function to do matrix multiplication"
      ],
      "metadata": {
        "colab": {
          "base_uri": "https://localhost:8080/"
        },
        "id": "PhwxxebqUabL",
        "outputId": "e955a42d-fb5d-4935-8957-8b919a6107b1"
      },
      "execution_count": 166,
      "outputs": [
        {
          "output_type": "execute_result",
          "data": {
            "text/plain": [
              "tensor(14)"
            ]
          },
          "metadata": {},
          "execution_count": 166
        }
      ]
    },
    {
      "cell_type": "markdown",
      "source": [
        "RULES OF MATRIX MULTIPLICATION:\n",
        "1) The inner dimensions must match:\n",
        "\n",
        "*   (3,2) @ (3,2) wont work\n",
        "*   (2,3) @ (3,2) will work\n",
        "*   (3,2) @ (2,3) will work\n",
        "\n",
        "2) The output has the shape of outer dimension\n",
        "\n",
        "\n",
        "\n",
        "\n",
        "\n"
      ],
      "metadata": {
        "id": "eTHvP9A-XJ9m"
      }
    },
    {
      "cell_type": "code",
      "source": [
        "torch.matmul(torch.rand(3,2), torch.rand(2,3))"
      ],
      "metadata": {
        "colab": {
          "base_uri": "https://localhost:8080/"
        },
        "id": "71Wus2AqXxK3",
        "outputId": "ca2fa64c-c190-4604-d827-5e290f4c8bef"
      },
      "execution_count": 173,
      "outputs": [
        {
          "output_type": "execute_result",
          "data": {
            "text/plain": [
              "tensor([[0.6022, 0.7735, 0.8599],\n",
              "        [0.3821, 0.4586, 0.5277],\n",
              "        [0.4401, 0.6241, 0.6613]])"
            ]
          },
          "metadata": {},
          "execution_count": 173
        }
      ]
    },
    {
      "cell_type": "code",
      "source": [
        "torch.matmul(torch.rand(2,3), torch.rand(3,2))"
      ],
      "metadata": {
        "colab": {
          "base_uri": "https://localhost:8080/"
        },
        "id": "USWQUaXRYTL9",
        "outputId": "e0f8b956-1ccc-4085-c656-9e2729e06dce"
      },
      "execution_count": 171,
      "outputs": [
        {
          "output_type": "execute_result",
          "data": {
            "text/plain": [
              "tensor([[0.3852, 0.9609],\n",
              "        [0.4895, 1.6706]])"
            ]
          },
          "metadata": {},
          "execution_count": 171
        }
      ]
    },
    {
      "cell_type": "code",
      "source": [
        "torch.rand(2,3)"
      ],
      "metadata": {
        "colab": {
          "base_uri": "https://localhost:8080/"
        },
        "id": "y2YKTOXuYhW2",
        "outputId": "10a63100-c02d-40d4-a918-90925071f23d"
      },
      "execution_count": 172,
      "outputs": [
        {
          "output_type": "execute_result",
          "data": {
            "text/plain": [
              "tensor([[0.0324, 0.4545, 0.3626],\n",
              "        [0.5038, 0.8191, 0.8796]])"
            ]
          },
          "metadata": {},
          "execution_count": 172
        }
      ]
    },
    {
      "cell_type": "code",
      "source": [
        "#shapes for matrix multiplication\n",
        "tensor_A=torch.tensor([[1,2],\n",
        "                      [3,4],\n",
        "                      [5,6]])\n",
        "\n",
        "tensor_B=torch.tensor([[7,10],\n",
        "                      [8,11],\n",
        "                      [9,12]])\n",
        "\n",
        "torch.matmul(tensor_A, tensor_B)\n",
        "#we can also use torch.mm()\n",
        "#output is wrong cuz inner dimension dont match"
      ],
      "metadata": {
        "colab": {
          "base_uri": "https://localhost:8080/",
          "height": 176
        },
        "id": "vzmQVH-UZkoV",
        "outputId": "129ca4aa-23a2-4385-933d-6440c80b4fd7"
      },
      "execution_count": 178,
      "outputs": [
        {
          "output_type": "error",
          "ename": "RuntimeError",
          "evalue": "mat1 and mat2 shapes cannot be multiplied (3x2 and 3x2)",
          "traceback": [
            "\u001b[0;31m---------------------------------------------------------------------------\u001b[0m",
            "\u001b[0;31mRuntimeError\u001b[0m                              Traceback (most recent call last)",
            "\u001b[0;32m/tmp/ipython-input-178-4049891834.py\u001b[0m in \u001b[0;36m<cell line: 0>\u001b[0;34m()\u001b[0m\n\u001b[1;32m      8\u001b[0m                       [9,12]])\n\u001b[1;32m      9\u001b[0m \u001b[0;34m\u001b[0m\u001b[0m\n\u001b[0;32m---> 10\u001b[0;31m \u001b[0mtorch\u001b[0m\u001b[0;34m.\u001b[0m\u001b[0mmatmul\u001b[0m\u001b[0;34m(\u001b[0m\u001b[0mtensor_A\u001b[0m\u001b[0;34m,\u001b[0m \u001b[0mtensor_B\u001b[0m\u001b[0;34m)\u001b[0m \u001b[0;31m#we can also use torch.mm()\u001b[0m\u001b[0;34m\u001b[0m\u001b[0;34m\u001b[0m\u001b[0m\n\u001b[0m",
            "\u001b[0;31mRuntimeError\u001b[0m: mat1 and mat2 shapes cannot be multiplied (3x2 and 3x2)"
          ]
        }
      ]
    },
    {
      "cell_type": "markdown",
      "source": [
        "#to fix our tensor shape issue we can manipulate the shape of one of the tensor using *transpose*\n"
      ],
      "metadata": {
        "id": "l6cLmVflb-4a"
      }
    },
    {
      "cell_type": "code",
      "source": [
        "tensor_B.T"
      ],
      "metadata": {
        "colab": {
          "base_uri": "https://localhost:8080/"
        },
        "id": "Pxsfqp6-dy7E",
        "outputId": "1fd2f6a8-5393-4f2e-f13f-519d2129adfe"
      },
      "execution_count": 181,
      "outputs": [
        {
          "output_type": "execute_result",
          "data": {
            "text/plain": [
              "tensor([[ 7,  8,  9],\n",
              "        [10, 11, 12]])"
            ]
          },
          "metadata": {},
          "execution_count": 181
        }
      ]
    },
    {
      "cell_type": "code",
      "source": [
        "output_of_tensor_A_and_B = torch.matmul(tensor_A, tensor_B.T)\n",
        "output_of_tensor_A_and_B"
      ],
      "metadata": {
        "colab": {
          "base_uri": "https://localhost:8080/"
        },
        "id": "IfXWb-x9eJQ-",
        "outputId": "6f56a2ed-1fb7-4264-958e-0f91b73f463f"
      },
      "execution_count": 184,
      "outputs": [
        {
          "output_type": "execute_result",
          "data": {
            "text/plain": [
              "tensor([[ 27,  30,  33],\n",
              "        [ 61,  68,  75],\n",
              "        [ 95, 106, 117]])"
            ]
          },
          "metadata": {},
          "execution_count": 184
        }
      ]
    },
    {
      "cell_type": "code",
      "source": [
        "output_of_tensor_A_and_B.shape\n",
        "#the outer dimensions of the output matches"
      ],
      "metadata": {
        "colab": {
          "base_uri": "https://localhost:8080/"
        },
        "id": "24rJ7MzFevFg",
        "outputId": "d188332a-27c2-4633-d078-8316e3d1384d"
      },
      "execution_count": 186,
      "outputs": [
        {
          "output_type": "execute_result",
          "data": {
            "text/plain": [
              "torch.Size([3, 3])"
            ]
          },
          "metadata": {},
          "execution_count": 186
        }
      ]
    },
    {
      "cell_type": "code",
      "source": [],
      "metadata": {
        "id": "BDDShOXVe8oF"
      },
      "execution_count": null,
      "outputs": []
    }
  ]
}