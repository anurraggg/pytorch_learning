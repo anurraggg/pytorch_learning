{
  "nbformat": 4,
  "nbformat_minor": 0,
  "metadata": {
    "colab": {
      "provenance": [],
      "authorship_tag": "ABX9TyMuqgBpmzXxkwIy3a1alvJm"
    },
    "kernelspec": {
      "name": "python3",
      "display_name": "Python 3"
    },
    "language_info": {
      "name": "python"
    }
  },
  "cells": [
    {
      "cell_type": "code",
      "source": [
        "import torch\n",
        "import pandas as pd\n",
        "import numpy as np\n",
        "import matplotlib.pyplot as plt\n",
        "print(torch.__version__)"
      ],
      "metadata": {
        "colab": {
          "base_uri": "https://localhost:8080/"
        },
        "id": "amJVqytCSpiO",
        "outputId": "6d19ec55-243d-4a0e-be33-bdd2666d79e7"
      },
      "execution_count": 2,
      "outputs": [
        {
          "output_type": "stream",
          "name": "stdout",
          "text": [
            "2.6.0+cu124\n"
          ]
        }
      ]
    },
    {
      "cell_type": "markdown",
      "source": [
        "#Intro to Tensors\n",
        "#Creating Tensors"
      ],
      "metadata": {
        "id": "kFmnlpNGTs9m"
      }
    },
    {
      "cell_type": "code",
      "source": [
        "#scalar\n",
        "scalar = torch.tensor(7)\n",
        "scalar"
      ],
      "metadata": {
        "id": "LrljYLaJTy0w",
        "colab": {
          "base_uri": "https://localhost:8080/"
        },
        "outputId": "e089da07-de70-4540-f3d6-5fba74a204b4"
      },
      "execution_count": 3,
      "outputs": [
        {
          "output_type": "execute_result",
          "data": {
            "text/plain": [
              "tensor(7)"
            ]
          },
          "metadata": {},
          "execution_count": 3
        }
      ]
    },
    {
      "cell_type": "code",
      "source": [
        "scalar.ndim"
      ],
      "metadata": {
        "id": "Hj1AYxc2UaxE",
        "colab": {
          "base_uri": "https://localhost:8080/"
        },
        "outputId": "0b7ef93d-baf8-4279-e594-1b0eb709e922"
      },
      "execution_count": 4,
      "outputs": [
        {
          "output_type": "execute_result",
          "data": {
            "text/plain": [
              "0"
            ]
          },
          "metadata": {},
          "execution_count": 4
        }
      ]
    },
    {
      "cell_type": "code",
      "source": [
        "#Getting Tensor back as Python int\n",
        "scalar.item()"
      ],
      "metadata": {
        "id": "i_US5jpLUvw0",
        "colab": {
          "base_uri": "https://localhost:8080/"
        },
        "outputId": "d7ad89cf-4b4e-4ab3-8299-d530cadfc5b1"
      },
      "execution_count": 5,
      "outputs": [
        {
          "output_type": "execute_result",
          "data": {
            "text/plain": [
              "7"
            ]
          },
          "metadata": {},
          "execution_count": 5
        }
      ]
    },
    {
      "cell_type": "code",
      "source": [
        "#Vector\n",
        "vector=torch.tensor([7,7])\n",
        "vector"
      ],
      "metadata": {
        "id": "2Ryid8oEU4U5",
        "colab": {
          "base_uri": "https://localhost:8080/"
        },
        "outputId": "804dbaba-0ad6-46aa-f7cb-44c32eb9c20c"
      },
      "execution_count": 6,
      "outputs": [
        {
          "output_type": "execute_result",
          "data": {
            "text/plain": [
              "tensor([7, 7])"
            ]
          },
          "metadata": {},
          "execution_count": 6
        }
      ]
    },
    {
      "cell_type": "code",
      "source": [
        "vector.ndim"
      ],
      "metadata": {
        "id": "vlX3oYWvVZVg",
        "colab": {
          "base_uri": "https://localhost:8080/"
        },
        "outputId": "8ffb4a8c-6fe3-4b8d-df91-70cff09efcab"
      },
      "execution_count": 7,
      "outputs": [
        {
          "output_type": "execute_result",
          "data": {
            "text/plain": [
              "1"
            ]
          },
          "metadata": {},
          "execution_count": 7
        }
      ]
    },
    {
      "cell_type": "code",
      "source": [
        "vector.shape"
      ],
      "metadata": {
        "id": "DHFMMoAsVd-J",
        "colab": {
          "base_uri": "https://localhost:8080/"
        },
        "outputId": "dec53c88-960f-4681-f0db-bd1ad3f897dc"
      },
      "execution_count": 8,
      "outputs": [
        {
          "output_type": "execute_result",
          "data": {
            "text/plain": [
              "torch.Size([2])"
            ]
          },
          "metadata": {},
          "execution_count": 8
        }
      ]
    },
    {
      "cell_type": "code",
      "source": [
        "#MATRIX\n",
        "MATRIX=torch.tensor([[7,8],\n",
        "                     [9,10]])\n",
        "MATRIX"
      ],
      "metadata": {
        "id": "zHHB4BYkV6Xw",
        "colab": {
          "base_uri": "https://localhost:8080/"
        },
        "outputId": "db3b3063-2ba1-4865-fb48-55ec1dc6c65f"
      },
      "execution_count": 9,
      "outputs": [
        {
          "output_type": "execute_result",
          "data": {
            "text/plain": [
              "tensor([[ 7,  8],\n",
              "        [ 9, 10]])"
            ]
          },
          "metadata": {},
          "execution_count": 9
        }
      ]
    },
    {
      "cell_type": "code",
      "source": [
        "MATRIX.ndim"
      ],
      "metadata": {
        "id": "RgDq0l6XWoD3",
        "colab": {
          "base_uri": "https://localhost:8080/"
        },
        "outputId": "2611b34b-cea5-4775-f5b1-114fecc7162d"
      },
      "execution_count": 10,
      "outputs": [
        {
          "output_type": "execute_result",
          "data": {
            "text/plain": [
              "2"
            ]
          },
          "metadata": {},
          "execution_count": 10
        }
      ]
    },
    {
      "cell_type": "code",
      "source": [
        "MATRIX[0]"
      ],
      "metadata": {
        "id": "2Lm5AZ-QW0wB",
        "colab": {
          "base_uri": "https://localhost:8080/"
        },
        "outputId": "62d6096b-5321-46c4-d3d7-c25ea40eac7d"
      },
      "execution_count": 11,
      "outputs": [
        {
          "output_type": "execute_result",
          "data": {
            "text/plain": [
              "tensor([7, 8])"
            ]
          },
          "metadata": {},
          "execution_count": 11
        }
      ]
    },
    {
      "cell_type": "code",
      "source": [
        "MATRIX.shape"
      ],
      "metadata": {
        "id": "-mbYVgNdXGab",
        "colab": {
          "base_uri": "https://localhost:8080/"
        },
        "outputId": "57b37409-723e-4790-f14f-8629b7a75889"
      },
      "execution_count": 12,
      "outputs": [
        {
          "output_type": "execute_result",
          "data": {
            "text/plain": [
              "torch.Size([2, 2])"
            ]
          },
          "metadata": {},
          "execution_count": 12
        }
      ]
    },
    {
      "cell_type": "code",
      "source": [
        "#TENSOR\n",
        "TENSOR=torch.tensor([[[2,3,1],[5,6,7],[66,67,68]]])\n",
        "TENSOR"
      ],
      "metadata": {
        "id": "dZbcOVrVX2Oe",
        "colab": {
          "base_uri": "https://localhost:8080/"
        },
        "outputId": "9cfad0d3-aff9-4fa6-91f8-09f799c7324c"
      },
      "execution_count": 13,
      "outputs": [
        {
          "output_type": "execute_result",
          "data": {
            "text/plain": [
              "tensor([[[ 2,  3,  1],\n",
              "         [ 5,  6,  7],\n",
              "         [66, 67, 68]]])"
            ]
          },
          "metadata": {},
          "execution_count": 13
        }
      ]
    },
    {
      "cell_type": "code",
      "source": [
        "TENSOR.ndim"
      ],
      "metadata": {
        "id": "r29ioX_tYDbk",
        "colab": {
          "base_uri": "https://localhost:8080/"
        },
        "outputId": "2ac4b90a-7163-4361-fa74-c8b02aba409e"
      },
      "execution_count": 14,
      "outputs": [
        {
          "output_type": "execute_result",
          "data": {
            "text/plain": [
              "3"
            ]
          },
          "metadata": {},
          "execution_count": 14
        }
      ]
    },
    {
      "cell_type": "code",
      "source": [
        "TENSOR.shape"
      ],
      "metadata": {
        "id": "djs0SolGYHS4",
        "colab": {
          "base_uri": "https://localhost:8080/"
        },
        "outputId": "7558ce55-f2de-4378-ecef-6d9fea20cc27"
      },
      "execution_count": 15,
      "outputs": [
        {
          "output_type": "execute_result",
          "data": {
            "text/plain": [
              "torch.Size([1, 3, 3])"
            ]
          },
          "metadata": {},
          "execution_count": 15
        }
      ]
    },
    {
      "cell_type": "markdown",
      "source": [
        "### Random Tensor"
      ],
      "metadata": {
        "id": "flUlyGGDcdmG"
      }
    },
    {
      "cell_type": "code",
      "source": [
        " #Create random tensor of size (2,3,4)\n",
        " #basically 2 dimensions of 3 by 4 matrix\n",
        "random_tensor = torch.rand(2,3,4)\n",
        "random_tensor"
      ],
      "metadata": {
        "id": "8lkz7v2dckIS",
        "colab": {
          "base_uri": "https://localhost:8080/"
        },
        "outputId": "388acffd-607e-4332-dd2b-968071b0730c"
      },
      "execution_count": 16,
      "outputs": [
        {
          "output_type": "execute_result",
          "data": {
            "text/plain": [
              "tensor([[[0.4184, 0.2622, 0.3205, 0.8288],\n",
              "         [0.4939, 0.8623, 0.7483, 0.7630],\n",
              "         [0.3128, 0.5369, 0.3829, 0.0980]],\n",
              "\n",
              "        [[0.3253, 0.5109, 0.4471, 0.2928],\n",
              "         [0.5444, 0.7468, 0.0906, 0.5081],\n",
              "         [0.9517, 0.5114, 0.8326, 0.4893]]])"
            ]
          },
          "metadata": {},
          "execution_count": 16
        }
      ]
    },
    {
      "cell_type": "code",
      "source": [
        "random_tensor.ndim"
      ],
      "metadata": {
        "id": "JestdLzCd8bc",
        "colab": {
          "base_uri": "https://localhost:8080/"
        },
        "outputId": "5435af50-9be0-4326-a470-2b59bbcdecba"
      },
      "execution_count": 17,
      "outputs": [
        {
          "output_type": "execute_result",
          "data": {
            "text/plain": [
              "3"
            ]
          },
          "metadata": {},
          "execution_count": 17
        }
      ]
    },
    {
      "cell_type": "code",
      "source": [
        "random_tensor.shape"
      ],
      "metadata": {
        "id": "UaFLUnFJd_l7",
        "colab": {
          "base_uri": "https://localhost:8080/"
        },
        "outputId": "151064c9-accf-4268-f5bc-07e2f8ceb765"
      },
      "execution_count": 18,
      "outputs": [
        {
          "output_type": "execute_result",
          "data": {
            "text/plain": [
              "torch.Size([2, 3, 4])"
            ]
          },
          "metadata": {},
          "execution_count": 18
        }
      ]
    },
    {
      "cell_type": "code",
      "source": [
        "#Creating a random tensor with a similar shape to an image tensor\n",
        "random_image_size_tensor=torch.rand(size=(224,224,3)) #height, width, colour\n",
        "random_image_size_tensor.shape, random_image_size_tensor.ndim"
      ],
      "metadata": {
        "id": "kRg-d51ffrJa",
        "colab": {
          "base_uri": "https://localhost:8080/"
        },
        "outputId": "a9ad636a-53a9-43fa-8970-1ee49ab12a9f"
      },
      "execution_count": 19,
      "outputs": [
        {
          "output_type": "execute_result",
          "data": {
            "text/plain": [
              "(torch.Size([224, 224, 3]), 3)"
            ]
          },
          "metadata": {},
          "execution_count": 19
        }
      ]
    }
  ]
}